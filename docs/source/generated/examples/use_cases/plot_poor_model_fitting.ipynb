{
  "cells": [
    {
      "cell_type": "markdown",
      "metadata": {},
      "source": [
        "\n# Example: Poor Model Fitting\n\nThis example illustrates the effect of poor model fitting on coregistration\nfor the 3D Variable Flip Angle (VFA) dataset used in the 3D data example.\n\nAs in the related 3D VFA example the data are fetched using the `fetch` \nfunction, the VFA parameters are defined, and the coregistration parameters are\nset. The model-driven coregistration is performed, and the results are \nvisualized.\n\nDifferently from the previous example, the model fit shows poor fitting and the\nresulting coregistration creates significant defects in the coregistered data.\n"
      ]
    },
    {
      "cell_type": "markdown",
      "metadata": {},
      "source": [
        "## Import packages and data\nExample data can be easily loaded in using the `fetch` function.\n\n"
      ]
    },
    {
      "cell_type": "code",
      "execution_count": null,
      "metadata": {
        "collapsed": false
      },
      "outputs": [],
      "source": [
        "import numpy as np\nimport mdreg\nimport time\nimport matplotlib.pyplot as plt\nimport math\n\ndata = mdreg.fetch('VFA')"
      ]
    },
    {
      "cell_type": "markdown",
      "metadata": {},
      "source": [
        "## Extract the desired slice from the data array\nAs an intial step, we will extract the 4D data (x,y,z,t) from the fetched data dictionary.\n\n"
      ]
    },
    {
      "cell_type": "code",
      "execution_count": null,
      "metadata": {
        "collapsed": false
      },
      "outputs": [],
      "source": [
        "array = data['array']"
      ]
    },
    {
      "cell_type": "markdown",
      "metadata": {},
      "source": [
        "## Signal model theory\nThe signal model used in this example is the non-linear variable flip angle \nSPGR model. The signal model is defined by the following equation:\n\n$S(\\phi)=S_{0} \\frac{\\sin{\\phi}e^{-\\frac{T_{R}}{T_{1}}}}{1-\\cos{\\phi}e^{-\\frac{T_{R}}{T_{1}}}}$\n\nWhere $S$ is the signal, $S_{0}$ the initial signal, $\\phi$\nthe flip angle, $T_{R}$ the reptition time and $T_{1}$ the \nlongitudinal relaxtion time.  Using this equation, $T_{1}$ and \n$S_{0}$ are optimised via a least squares method.\n\n\n"
      ]
    },
    {
      "cell_type": "markdown",
      "metadata": {},
      "source": [
        "## Define model fit parameters\nThe image fitting settings dictionary (`vfa_fit` in this case) is required by \n`mdreg.fit` to fit a specific signal model to the data. Leaving this as None \nwill fit a constant model to the data as a default.\n\nHere, we select the model function `func` to be the non-linear varaible flip \nangle SPGR model from the model library (`mdreg.spgr_vfa_nonlin`). This model \nfit requires the flip angle values in radians (`FA`) and the repetition time \nin seconds (`TR`). This information is provided in the `data` dictionary for \nthis example.\n\n"
      ]
    },
    {
      "cell_type": "code",
      "execution_count": null,
      "metadata": {
        "collapsed": false
      },
      "outputs": [],
      "source": [
        "vfa_fit = {\n    'func':  mdreg.spgr_vfa_nonlin,  # The function to fit the data\n    'FA': data['FA'],  # The flip angles in degrees\n    'TR': 3.71/1000  # The TR value in s\n}"
      ]
    },
    {
      "cell_type": "markdown",
      "metadata": {},
      "source": [
        "## Define the coregistration parameters\nThe coregistration parameters are set in the `coreg_params` dictionary.\nThe `package` key specifies the coregistration package to be used, with a \nchoice of elastix, skimage, or dipy.\n\nThe `params` key specifies the parameters required by the chosen \ncoregistration package. Here None is used to specify default parameters for \nfreeform registration included by `mdreg`.\n\nHere, we use the elastix package with the following parameters:\n\n"
      ]
    },
    {
      "cell_type": "code",
      "execution_count": null,
      "metadata": {
        "collapsed": false
      },
      "outputs": [],
      "source": [
        "coreg_params = {\n    'package': 'elastix',\n    'params': mdreg.elastix.params(FinalGridSpacingInPhysicalUnits='150.0'),\n    'spacing': data['spacing']\n}"
      ]
    },
    {
      "cell_type": "markdown",
      "metadata": {},
      "source": [
        "## Define the plotting parameters\nThe plotting parameters are set in the `plot_settings` dictionary.\n\nThe `interval` key specifies the time interval between frames in \nmilliseconds, and the `vmin`/`vmax` keys specify the minimum/maximum value of \nthe colorbar. \n\nThe `slice` key specifies the slice to be displayed in the \nanimation. If unset or set to None, the central slice is displayed by \ndefault. \n\nIf you are interested to save the resulting animation, you can use \nthe `path` key to the desired file path and the `filename` key to the desired \nfilename. As a default these are set to None resulting in the animation being \ndisplayed on screen only. For more plotting keyword arguements, see the \n`mdreg.plot` module.\n\n\n"
      ]
    },
    {
      "cell_type": "code",
      "execution_count": null,
      "metadata": {
        "collapsed": false
      },
      "outputs": [],
      "source": [
        "plot_settings = {\n    'interval' : 500, # Time interval between animation frames in ms\n    'vmin' : 0, # Minimum value of the colorbar\n    'vmax' : np.percentile(array,99), # Maximum value of the colorbar\n    'path' : None, # Path to save the animation\n    'show' : True, # Display the animation on screen\n    'filename' : None, # Filename to save the animation\n    'slice' : None # No slice specified, show all slices for 3D data\n}"
      ]
    },
    {
      "cell_type": "markdown",
      "metadata": {},
      "source": [
        "## Perform model-driven coregistration\nThe `mdreg.fit` function is used to perform the model-driven coregistration.\nThe function requires the 4D data array, the fit_image dictionary, and the \ncoregistration parameters we have already defined.\nThe `verbose` parameter can be set to 0, 1, 2, or 3 to control the level of \noutput.\n\n"
      ]
    },
    {
      "cell_type": "code",
      "execution_count": null,
      "metadata": {
        "collapsed": false
      },
      "outputs": [],
      "source": [
        "stime = time.time()\n\ncoreg, defo, fit, pars = mdreg.fit(array,\n                                   fit_image = vfa_fit, \n                                   fit_coreg = coreg_params,\n                                   maxit=3, \n                                   verbose=0)\n\ntot_time = time.time() - stime\n\nprint(f\"Non-linear fitting time elapsed: {(int(tot_time/60))} mins, {np.round(tot_time-(int(tot_time/60)*60),1)} s\")"
      ]
    },
    {
      "cell_type": "markdown",
      "metadata": {},
      "source": [
        "## Visualise coregistration results\nTo easily visualise the output of the employ the `mdreg.plot` module to \neasily produce animations that render on screen or save as a gif.\nHere we utilise `mdreg.plot_series` which accepts both 2D and 3D spatial data \narrays which change over an additional dimension (e.g. time or FA in this \ncase). This displays the orginal data, the fitted data and the coregistered \ndata. \n\nFor the case of 3D data, by default the function renders animations for all \nslices for the original, fitted and coregistered data in seperate figures. If\na `slice` parameter is specified in the plotting parameters, the function\nwill produce a single figure for the specified slice showing the original,\nfitted and coregistered data animations side-by-side.\n\n\n"
      ]
    },
    {
      "cell_type": "code",
      "execution_count": null,
      "metadata": {
        "collapsed": false
      },
      "outputs": [],
      "source": [
        "anim = mdreg.animation(array, title='Original Data', **plot_settings)"
      ]
    },
    {
      "cell_type": "code",
      "execution_count": null,
      "metadata": {
        "collapsed": false
      },
      "outputs": [],
      "source": [
        "anim = mdreg.animation(coreg, title='Coregistered', **plot_settings)"
      ]
    },
    {
      "cell_type": "code",
      "execution_count": null,
      "metadata": {
        "collapsed": false
      },
      "outputs": [],
      "source": [
        "anim = mdreg.animation(fit, title='Model Fit', **plot_settings)"
      ]
    },
    {
      "cell_type": "markdown",
      "metadata": {},
      "source": [
        "## Export all series at once\nThe `mdreg.plot_series` function can be used to plot the original, fitted and\ncoregistered data for all slices in the data array. This function can also\nbe used to save the animations to a file. \n\nWe include the `mdreg.animation` function to display the animations on screen\nwithin the documentation, but recommend using the `mdreg.plot_series` function\nto easily process and save the animations to a file when running locally.\n >>> anims = mdreg.plot_series(array, fit, coreg, **plot_settings)\n\n"
      ]
    },
    {
      "cell_type": "markdown",
      "metadata": {},
      "source": [
        "## Identifiying poor model fitting\n\nThe coregistration results show significant defects in the coregistered data.\nThis is due to poor model fitting, which usually results from optimisation to\na local minimum rather than the global minimum.\n\nThis poor model fitting is evident from\nthe model fitting from the initial iteration. For subsequent iterations the \nmodel fitting become increasing unstable due to the effect of compenstating\ndeformation fields.\n\nTo identify poor model fitting, the user can inspect the model fitting by \noutputing the model fitting outcomes an probing a goodness of fit metric \nagainst the original uncoregistred data.\n\nHere we calculate the chi squared value for each pixel in the data array\nafter two iteration of the model fitting, and visualise the results.\n\n"
      ]
    },
    {
      "cell_type": "code",
      "execution_count": null,
      "metadata": {
        "collapsed": false
      },
      "outputs": [],
      "source": [
        "coreg_1iter, defo_1iter, fit_1iter, pars_1iter = mdreg.fit(array,\n                                                            fit_image = vfa_fit, \n                                                            fit_coreg = coreg_params,\n                                                            maxit=1, \n                                                            verbose=0)\n\n# Determine chi squared of fit pixel wise, regions where data == 0 are ignored\n# and the output is zero\nchi_squared = np.sum(np.divide((fit_1iter - array) ** 2, array, where=array != 0), axis=-1)\n\n# Determine the grid size for the panels\nnum_slices = array.shape[2]\ngrid_size = math.ceil(math.sqrt(num_slices))\n\n# Set the colormap and color limits\ncmap = plt.get_cmap('viridis')\nvmin = np.percentile(chi_squared, 1)\nvmax = np.percentile(chi_squared, 99)\n\n# Setup the figure\nfig, axes1 = plt.subplots(grid_size, grid_size, figsize=(grid_size*2, grid_size*2))\nfig.subplots_adjust(wspace=0.5, hspace=0.01)\n\n# Add a title to the figure\ntitlesize = 10\nfig.suptitle('Goodness of Fit\\n \\n', fontsize=titlesize+2)\n\n# Improve the layout\nplt.tight_layout()\n\n# Plot the chi squared values for each slice\nfor i in range(grid_size * grid_size):\n    row = i // grid_size\n    col = i % grid_size\n    if i < num_slices:\n        im = axes1[row, col].imshow(chi_squared[:, :, i].T, cmap=cmap, vmin=vmin, vmax=vmax)\n        axes1[row, col].set_title('Slice {}'.format(i+1), fontsize=titlesize)\n    else:\n        axes1[row, col].axis('off')  # Turn off unused subplots\n    axes1[row, col].set_xticks([])  # Remove x-axis ticks\n    axes1[row, col].set_yticks([])  # Remove y-axis ticks\n\n# Set the colorbar to have overflow and underflow colors\nim.cmap.set_over('red')\nim.cmap.set_under('white')\n\n# set colorbar axis: [left, bottom, width, height]\ncbar_ax = fig.add_axes([0.90, 0.15, 0.02, 0.7])\ncbar = fig.colorbar(im, cax=cbar_ax, extend='both')\n\n# Add a label to the colorbar and adjust the layout to make space for the \n# colorbar\ncbar.set_label('Chi Squared', rotation=270, labelpad=15)  \nfig.subplots_adjust(right=0.89)\n\nplt.show()"
      ]
    },
    {
      "cell_type": "markdown",
      "metadata": {},
      "source": [
        "## Goodness of fit\nThe chi squared values in the figure above show large regions of poor fit\nacross the data array. These regions are highlighted in red as above the 99th\npercentile of the chi squared values. These region also correspond to the \nregions of strange coregtistration behaviour shown in the previous animations.\n\nThe user can use this information to identify regions of poor fit and decide \nwhether to adjust the model fitting parameters or the coregistration options.\n\n"
      ]
    }
  ],
  "metadata": {
    "kernelspec": {
      "display_name": "Python 3",
      "language": "python",
      "name": "python3"
    },
    "language_info": {
      "codemirror_mode": {
        "name": "ipython",
        "version": 3
      },
      "file_extension": ".py",
      "mimetype": "text/x-python",
      "name": "python",
      "nbconvert_exporter": "python",
      "pygments_lexer": "ipython3",
      "version": "3.10.10"
    }
  },
  "nbformat": 4,
  "nbformat_minor": 0
}