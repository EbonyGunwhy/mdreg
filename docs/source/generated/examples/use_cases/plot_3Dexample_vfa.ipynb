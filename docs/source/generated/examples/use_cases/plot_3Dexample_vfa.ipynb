{
  "cells": [
    {
      "cell_type": "markdown",
      "metadata": {},
      "source": [
        "\n# Example 3D data: Variable Flip Angle\n\nThis example illustrates coregistration of a 3D Variable Flip Angle (VFA) \ndataset. The data is fetched using the `fetch` function, and the desired slice \nis extracted from the data array. The VFA parameters are defined, and the \ncoregistration parameters are set. The model-driven coregistration is \nperformed, and the results are visualized.\n"
      ]
    },
    {
      "cell_type": "markdown",
      "metadata": {},
      "source": [
        "## Import packages and data\nExample data can be easily loaded in using the `fetch` function.\n\n"
      ]
    },
    {
      "cell_type": "code",
      "execution_count": null,
      "metadata": {
        "collapsed": false
      },
      "outputs": [],
      "source": [
        "import numpy as np\nimport mdreg\nimport time\n\ndata = mdreg.fetch('VFA')"
      ]
    },
    {
      "cell_type": "markdown",
      "metadata": {},
      "source": [
        "## Extract the desired slice from the data array\nAs an intial step, we will extract the 4D data (x,y,z,t) from the fetched \ndata dictionary.\n\n"
      ]
    },
    {
      "cell_type": "code",
      "execution_count": null,
      "metadata": {
        "collapsed": false
      },
      "outputs": [],
      "source": [
        "array = data['array']"
      ]
    },
    {
      "cell_type": "markdown",
      "metadata": {},
      "source": [
        "## Signal model theory\nThe signal model used in this example is the variable flip angle \nSPGR model. The signal model is defined by the following equation:\n\n\n$S(\\phi)=S_{0} \\frac{\\sin{\\phi}e^{-\\frac{T_{R}}{T_{1}}}}{1-\\cos{\\phi}e^{-\\frac{T_{R}}{T_{1}}}}$\n\nWhere $S$ is the signal, $S_{0}$ the initial signal, $\\phi$\nthe flip angle, $T_{R}$ the reptition time and $T_{1}$ the \nlongitudinal relaxtion time.\n\nA linearised fitting approach is chosen for efficiency, where the above \nrelationship can be rearranged to give:\n\n$S\\frac{\\cos{\\phi}}{\\sin{\\phi}}=M S\\sin{\\phi}+C$\n\nThis takes the form: $Y=MX+C$. Which can be easily solved for using \nlinear methods.\n\nIn this case the slope and intercept terms are defined as:\n\n$M=(\\frac{1}{E});~~~~C=\\frac{(1-E)}{E}~$. $~~~~$ Where \n$E=e^{\\frac{-T_{R}}{T_{1}}}~$.\n\nThe fitted intercept and slope terms are then used to calculate the fitted \nsignal $S$.\n\n$S(\\phi)=\\frac{C\\sin{\\phi}}{\\cos{\\phi}-M}$\n\n\n"
      ]
    },
    {
      "cell_type": "markdown",
      "metadata": {},
      "source": [
        "## Define model fit parameters\nThe image fitting settings dictionary (`vfa_fit` in this case) is \nrequired by `mdreg.fit` to fit a specific signal model to the data. Leaving \nthis as None will fit a constant model to the data as a default.\n\nHere, we select the model function `func` to be the linear varaible flip \nangle SPGR model from the model library (`mdreg.spgr_vfa_lin`). This model \nfit requires the flip angle values in radians (`FA`). This information is \nprovided in the `data` dictionary for this example.\n\n"
      ]
    },
    {
      "cell_type": "code",
      "execution_count": null,
      "metadata": {
        "collapsed": false
      },
      "outputs": [],
      "source": [
        "vfa_fit = {\n    'func': mdreg.spgr_vfa_lin,  # The function to fit the data\n    'FA': data['FA']  # The FA values in degrees\n    }"
      ]
    },
    {
      "cell_type": "markdown",
      "metadata": {},
      "source": [
        "## Define the coregistration parameters\nThe coregistration parameters are set in the `coreg_params` dictionary.\nThe `package` key specifies the coregistration package to be used, with a \nchoice of elastix, skimage, or dipy.\n\nThe `params` key specifies the parameters required by the chosen \ncoregistration package. Here None is used to specify default parameters for \nfreeform registration included by `mdreg`. Here, we use the elastix package \nwith the following parameters:\n\n"
      ]
    },
    {
      "cell_type": "code",
      "execution_count": null,
      "metadata": {
        "collapsed": false
      },
      "outputs": [],
      "source": [
        "coreg_params = {\n    'package': 'elastix',\n    'params': mdreg.elastix.params(FinalGridSpacingInPhysicalUnits='150.0'),\n    'spacing': data['spacing']\n}"
      ]
    },
    {
      "cell_type": "markdown",
      "metadata": {},
      "source": [
        "## Define the plotting parameters\nThe plotting parameters are set in the `plot_settings` dictionary.\n\nThe `interval` key specifies the time interval between frames in \nmilliseconds, and the `vmin`/`vmax` keys specify the minimum/maximum value of \nthe colorbar. \n\nFor the case of 3D data, by default the function renders animations for all \nslices for the original, fitted and coregistered data in seperate figures. If\nthe `slice` parameter is specified in the plotting parameters, the function\nwill produce a single figure for the specified slice showing the original,\nfitted and coregistered data animations side-by-side.\n\nIf you are interested to save the resulting animation, you can use \nthe `path` key to the desired file path and the `filename` key to the desired \nfilename. As a default these are set to None resulting in the animation being \ndisplayed on screen only. For more plotting keyword arguements, see the \n`mdreg.plot` module.\n\nThe plotting parameters can be provide to the `mdreg.fit` function to provide\nsettings for animations produce if verbose is set to 3. This produces\nanimations after each coregistation iteration. Additionally, the plotting\nparameters can be provided to the `mdreg.plot` module to produce animations\nof the final outputs.\n\n"
      ]
    },
    {
      "cell_type": "code",
      "execution_count": null,
      "metadata": {
        "collapsed": false
      },
      "outputs": [],
      "source": [
        "plot_settings = {\n    'interval' : 500, # Time interval between animation frames in ms\n    'vmin' : 0, # Minimum value of the colorbar\n    'vmax' : np.percentile(array,99), # Maximum value of the colorbar\n    'path' : None, # Path to save the animation\n    'show' : True, # Display the animation on screen\n    'filename' : None, # Filename to save the animation\n    'slice' : None # No slice specified, show all slices for 3D data\n}"
      ]
    },
    {
      "cell_type": "markdown",
      "metadata": {},
      "source": [
        "## Perform model-driven coregistration\nThe `mdreg.fit` function is used to perform the model-driven coregistration.\nThe function requires the 4D data array, the fit_image dictionary, and the \ncoregistration parameters we have already defined.\nThe `verbose` parameter can be set to 0, 1, 2, or 3 to control the level of \noutput.\n\n"
      ]
    },
    {
      "cell_type": "code",
      "execution_count": null,
      "metadata": {
        "collapsed": false
      },
      "outputs": [],
      "source": [
        "stime = time.time()\n\ncoreg, defo, fit, pars = mdreg.fit(array, \n                                   fit_image = vfa_fit, \n                                   fit_coreg = coreg_params,\n                                   maxit = 3, \n                                   verbose = 0,\n                                   plot_params = None)\n\ntot_time = time.time() - stime\n\nprint(f\"Linear fitting time elapsed: {(int(tot_time/60))} mins, {np.round(tot_time-(int(tot_time/60)*60),1)} s\")"
      ]
    },
    {
      "cell_type": "markdown",
      "metadata": {},
      "source": [
        "## Visualize the results\nTo easily visualise the output of the employ the `mdreg.plot` module to \neasily produce animations that render on screen or save as a gif.\nHere we utilise `mdreg.plot_series` which accepts both 2D and 3D spatial data \narrays which change over an additional dimension (e.g. time or FA in this \ncase). This displays the orginal data, the fitted data and the coregistered \ndata. \n\nHere we apply the plotting parameters defined above to visualise the final\nresults.\n\n"
      ]
    },
    {
      "cell_type": "code",
      "execution_count": null,
      "metadata": {
        "collapsed": false
      },
      "outputs": [],
      "source": [
        "anim = mdreg.animation(array, title='Original Data', **plot_settings)"
      ]
    },
    {
      "cell_type": "code",
      "execution_count": null,
      "metadata": {
        "collapsed": false
      },
      "outputs": [],
      "source": [
        "anim = mdreg.animation(coreg, title='Coregistered', **plot_settings)"
      ]
    },
    {
      "cell_type": "code",
      "execution_count": null,
      "metadata": {
        "collapsed": false
      },
      "outputs": [],
      "source": [
        "anim = mdreg.animation(fit, title='Model Fit', **plot_settings)"
      ]
    },
    {
      "cell_type": "markdown",
      "metadata": {},
      "source": [
        "## Export all series at once\nThe `mdreg.plot_series` function can be used to plot the original, fitted and\ncoregistered data for all slices in the data array. This function can also\nbe used to save the animations to a file. \n\nWe include the `mdreg.animation` function to display the animations on screen\nwithin the documentation, but recommend using the `mdreg.plot_series` \nfunction to easily process and save the animations to a file when running \nlocally.\n >>> anims = mdreg.plot_series(array, fit_nonlin, coreg_nonlin, **plot_settings)\n\n"
      ]
    }
  ],
  "metadata": {
    "kernelspec": {
      "display_name": "Python 3",
      "language": "python",
      "name": "python3"
    },
    "language_info": {
      "codemirror_mode": {
        "name": "ipython",
        "version": 3
      },
      "file_extension": ".py",
      "mimetype": "text/x-python",
      "name": "python",
      "nbconvert_exporter": "python",
      "pygments_lexer": "ipython3",
      "version": "3.10.10"
    }
  },
  "nbformat": 4,
  "nbformat_minor": 0
}