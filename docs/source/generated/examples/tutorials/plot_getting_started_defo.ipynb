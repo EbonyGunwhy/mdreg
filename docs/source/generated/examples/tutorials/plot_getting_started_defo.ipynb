{
  "cells": [
    {
      "cell_type": "markdown",
      "metadata": {},
      "source": [
        "\n# Customizing the coregistration\n\nBy default, ``dcmri`` uses free-form deformation implemented in the package \n`itk.elastix`, which default settings for all configuration parameters. \n\nThis example shows how thse defaults can be modified, and how coregistration \ncan be done by another package, `skimage`.\n"
      ]
    },
    {
      "cell_type": "markdown",
      "metadata": {},
      "source": [
        "## Import packages and data\nImport packages \n\n"
      ]
    },
    {
      "cell_type": "code",
      "execution_count": null,
      "metadata": {
        "collapsed": false
      },
      "outputs": [],
      "source": [
        "import numpy as np\nimport mdreg"
      ]
    },
    {
      "cell_type": "markdown",
      "metadata": {},
      "source": [
        "Load test data\n\n"
      ]
    },
    {
      "cell_type": "code",
      "execution_count": null,
      "metadata": {
        "collapsed": false
      },
      "outputs": [],
      "source": [
        "data = mdreg.fetch('MOLLI')\narray = data['array'][:,:,0,:]\n\n# Show the motion:\nmdreg.animation(array, vmin=0, vmax=1e4, show=True)"
      ]
    },
    {
      "cell_type": "markdown",
      "metadata": {},
      "source": [
        "## Customizing the coregistration\n\nIn the above examples we have not provided any detail on the coregistration \nitself, which means that the default in ``mdreg`` has been applied. The \ndetailed default parameter settings can be found in the function \n``mdreg.elastix.params``.\n\nWe can try to improve the result further by customizing the coregistration \nmodel rather than using the default. This can be done either by modifying the\n``elastix`` parameters, or by using another coregistration package supported \nby ``mdreg`` (currently only ``skimage`` available).\n\nTo illustrate customizing the ``elastix`` parameters, we perform ``mdreg`` \nwith a more fine-grained deformation field. The default coregistration uses \na grid spacing of 5cm, which is relatively coarse, so we will try a finer \ndeformation of 5mm. In order to do that, we need to provide the actual pixel \nspacing of the data, and modify default elastix parameters.\n\n"
      ]
    },
    {
      "cell_type": "code",
      "execution_count": null,
      "metadata": {
        "collapsed": false
      },
      "outputs": [],
      "source": [
        "deform5mm = {\n\n    # Pixel spacing in the images\n    'spacing': data['pixel_spacing'],\n\n    # Default elastix parameters with custom grid spacing\n    'params': mdreg.elastix.params(FinalGridSpacingInPhysicalUnits= \"5.0\"),\n}"
      ]
    },
    {
      "cell_type": "markdown",
      "metadata": {},
      "source": [
        "We run ``mdreg`` again with the correct signal model, but now using the 5mm \ncoregistration:\n\n"
      ]
    },
    {
      "cell_type": "code",
      "execution_count": null,
      "metadata": {
        "collapsed": false
      },
      "outputs": [],
      "source": [
        "molli = {\n    'func': mdreg.abs_exp_recovery_2p,\n    'TI': np.array(data['TI'])/1000,\n    'progress_bar': True,\n}\n\n# Perform model-driven coregistration\ncoreg, defo, fit, pars = mdreg.fit(\n    array, \n    fit_image = molli, \n    fit_coreg = deform5mm, \n    verbose = 0,\n)\n\n# Visualise the results\nmdreg.plot_series(array, fit, coreg, vmin=0, vmax=1e4, show=True)"
      ]
    },
    {
      "cell_type": "markdown",
      "metadata": {},
      "source": [
        "The effect of the finer deformations is apparent, but it has not \nfundamentally improved the result. In fact, it has created smaller unphysical\ndeformations that have blurred out some of the anatomical features. An \nexample is the small cyst in the upper pole of the right kidney, which is \nclearly visible in the data but can no longer be seen in the model fit. The \nexample illustrates that the grid spacing is a critical parameter and should \nbe chosen to reflect the scale of the expected deformations. \n\nAny coregistration method available in elastix can be used in the same way by\nproviding a custom set of elstix parameters.\n\n"
      ]
    },
    {
      "cell_type": "markdown",
      "metadata": {},
      "source": [
        "## Coregistration with ``skimage``\n\nWhile ``skimage`` is the default package for coregistration, ``mdreg`` also \nhas an option to use coregistration modules from the package ``scikit-image``. \n\nFor this illustration we run skimage coregistration with default parameters, \nexcept for the attachment which is increased to 30 (default=15) to allow for \nfiner deformations.\n\n\n"
      ]
    },
    {
      "cell_type": "code",
      "execution_count": null,
      "metadata": {
        "collapsed": false
      },
      "outputs": [],
      "source": [
        "attach30 = {\n\n    # The package needs to be defined if it is not elastix\n    'package': 'skimage',\n\n    # Use default parameters except for the attachment\n    'params': mdreg.skimage.params(attachment=30)\n}"
      ]
    },
    {
      "cell_type": "markdown",
      "metadata": {},
      "source": [
        "Run ``mdreg`` again with the correct signal model, but now using the \ncustomized ``skimage`` coregistration:\n\n"
      ]
    },
    {
      "cell_type": "code",
      "execution_count": null,
      "metadata": {
        "collapsed": false
      },
      "outputs": [],
      "source": [
        "# Perform model-driven coregistration\ncoreg, defo, fit, pars = mdreg.fit(\n    array, \n    fit_image = molli, \n    fit_coreg = attach30, \n)\n\n# Visualise the results\nmdreg.plot_series(array, fit, coreg, vmin=0, vmax=1e4, show=True)"
      ]
    },
    {
      "cell_type": "markdown",
      "metadata": {},
      "source": [
        "This result shows good coregistration results, in this case better preserving \nfine grained features such as kidney cysts in comparison to the default \nelastix implementation.\n\n"
      ]
    }
  ],
  "metadata": {
    "kernelspec": {
      "display_name": "Python 3",
      "language": "python",
      "name": "python3"
    },
    "language_info": {
      "codemirror_mode": {
        "name": "ipython",
        "version": 3
      },
      "file_extension": ".py",
      "mimetype": "text/x-python",
      "name": "python",
      "nbconvert_exporter": "python",
      "pygments_lexer": "ipython3",
      "version": "3.10.10"
    }
  },
  "nbformat": 4,
  "nbformat_minor": 0
}